{
 "cells": [
  {
   "cell_type": "code",
   "execution_count": 8,
   "id": "40cdf1e1",
   "metadata": {},
   "outputs": [
    {
     "data": {
      "text/plain": [
       "ico_success\n",
       "1.0    582\n",
       "0.0    234\n",
       "Name: count, dtype: int64"
      ]
     },
     "execution_count": 8,
     "metadata": {},
     "output_type": "execute_result"
    }
   ],
   "source": [
    "import pandas as pd\n",
    "\n",
    "# Read the data into a dataframe\n",
    "df1 = pd.read_csv(\"cleaned_sentiment_data.csv\")\n",
    "df1[\"ico_success\"].value_counts()"
   ]
  },
  {
   "cell_type": "code",
   "execution_count": 9,
   "id": "742b0b03",
   "metadata": {},
   "outputs": [
    {
     "data": {
      "text/plain": [
       "ico_success\n",
       "1.0    582\n",
       "0.0    234\n",
       "Name: count, dtype: int64"
      ]
     },
     "execution_count": 9,
     "metadata": {},
     "output_type": "execute_result"
    }
   ],
   "source": [
    "# Read the data into a dataframe\n",
    "df2 = pd.read_csv(\"cleaned_engagement_data.csv\")\n",
    "df2[\"ico_success\"].value_counts()"
   ]
  },
  {
   "cell_type": "code",
   "execution_count": 10,
   "id": "2726093f",
   "metadata": {},
   "outputs": [
    {
     "data": {
      "text/plain": [
       "ico_success\n",
       "1    582\n",
       "0    234\n",
       "Name: count, dtype: int64"
      ]
     },
     "execution_count": 10,
     "metadata": {},
     "output_type": "execute_result"
    }
   ],
   "source": [
    "# Read the data into a dataframe\n",
    "df3 = pd.read_csv(\"cleaned_data.csv\")\n",
    "df3[\"ico_success\"].value_counts()"
   ]
  },
  {
   "cell_type": "code",
   "execution_count": 11,
   "id": "fff2b2d4",
   "metadata": {},
   "outputs": [
    {
     "data": {
      "text/plain": [
       "True"
      ]
     },
     "execution_count": 11,
     "metadata": {},
     "output_type": "execute_result"
    }
   ],
   "source": [
    "(df1[\"ico_success\"] == df2[\"ico_success\"]).all()"
   ]
  },
  {
   "cell_type": "code",
   "execution_count": 12,
   "id": "5b3f1bd0",
   "metadata": {},
   "outputs": [
    {
     "data": {
      "text/plain": [
       "True"
      ]
     },
     "execution_count": 12,
     "metadata": {},
     "output_type": "execute_result"
    }
   ],
   "source": [
    "(df1[\"ico_success\"] == df3[\"ico_success\"]).all()"
   ]
  },
  {
   "cell_type": "code",
   "execution_count": 13,
   "id": "b8c5a3a8",
   "metadata": {},
   "outputs": [
    {
     "data": {
      "text/html": [
       "<div>\n",
       "<style scoped>\n",
       "    .dataframe tbody tr th:only-of-type {\n",
       "        vertical-align: middle;\n",
       "    }\n",
       "\n",
       "    .dataframe tbody tr th {\n",
       "        vertical-align: top;\n",
       "    }\n",
       "\n",
       "    .dataframe thead th {\n",
       "        text-align: right;\n",
       "    }\n",
       "</style>\n",
       "<table border=\"1\" class=\"dataframe\">\n",
       "  <thead>\n",
       "    <tr style=\"text-align: right;\">\n",
       "      <th></th>\n",
       "      <th>token_name</th>\n",
       "      <th>total_positive_direct_mentions</th>\n",
       "      <th>total_negative_direct_mentions</th>\n",
       "      <th>total_positive_indirect_mentions</th>\n",
       "      <th>total_negative_indirect_mentions</th>\n",
       "      <th>soft_cap</th>\n",
       "      <th>ico_success</th>\n",
       "    </tr>\n",
       "  </thead>\n",
       "  <tbody>\n",
       "    <tr>\n",
       "      <th>0</th>\n",
       "      <td>KXA</td>\n",
       "      <td>3053</td>\n",
       "      <td>1936</td>\n",
       "      <td>40100</td>\n",
       "      <td>28684</td>\n",
       "      <td>100000.0</td>\n",
       "      <td>1.0</td>\n",
       "    </tr>\n",
       "    <tr>\n",
       "      <th>1</th>\n",
       "      <td>MGA</td>\n",
       "      <td>2905</td>\n",
       "      <td>917</td>\n",
       "      <td>24796</td>\n",
       "      <td>25392</td>\n",
       "      <td>2850000.0</td>\n",
       "      <td>1.0</td>\n",
       "    </tr>\n",
       "    <tr>\n",
       "      <th>2</th>\n",
       "      <td>BICO</td>\n",
       "      <td>933</td>\n",
       "      <td>596</td>\n",
       "      <td>6544</td>\n",
       "      <td>6221</td>\n",
       "      <td>21100000.0</td>\n",
       "      <td>1.0</td>\n",
       "    </tr>\n",
       "    <tr>\n",
       "      <th>3</th>\n",
       "      <td>NEXT</td>\n",
       "      <td>1494</td>\n",
       "      <td>1902</td>\n",
       "      <td>3711</td>\n",
       "      <td>2196</td>\n",
       "      <td>3040000.0</td>\n",
       "      <td>0.0</td>\n",
       "    </tr>\n",
       "    <tr>\n",
       "      <th>4</th>\n",
       "      <td>UMAD</td>\n",
       "      <td>273</td>\n",
       "      <td>189</td>\n",
       "      <td>2426</td>\n",
       "      <td>2077</td>\n",
       "      <td>7540000.0</td>\n",
       "      <td>1.0</td>\n",
       "    </tr>\n",
       "    <tr>\n",
       "      <th>...</th>\n",
       "      <td>...</td>\n",
       "      <td>...</td>\n",
       "      <td>...</td>\n",
       "      <td>...</td>\n",
       "      <td>...</td>\n",
       "      <td>...</td>\n",
       "      <td>...</td>\n",
       "    </tr>\n",
       "    <tr>\n",
       "      <th>811</th>\n",
       "      <td>BTL</td>\n",
       "      <td>1263</td>\n",
       "      <td>480</td>\n",
       "      <td>5387</td>\n",
       "      <td>9996</td>\n",
       "      <td>3150000.0</td>\n",
       "      <td>1.0</td>\n",
       "    </tr>\n",
       "    <tr>\n",
       "      <th>812</th>\n",
       "      <td>ARC</td>\n",
       "      <td>2651</td>\n",
       "      <td>6730</td>\n",
       "      <td>6203</td>\n",
       "      <td>14883</td>\n",
       "      <td>2800000.0</td>\n",
       "      <td>0.0</td>\n",
       "    </tr>\n",
       "    <tr>\n",
       "      <th>813</th>\n",
       "      <td>SIS</td>\n",
       "      <td>735</td>\n",
       "      <td>1012</td>\n",
       "      <td>6190</td>\n",
       "      <td>6045</td>\n",
       "      <td>10080000.0</td>\n",
       "      <td>1.0</td>\n",
       "    </tr>\n",
       "    <tr>\n",
       "      <th>814</th>\n",
       "      <td>WIDI</td>\n",
       "      <td>738</td>\n",
       "      <td>347</td>\n",
       "      <td>4676</td>\n",
       "      <td>2220</td>\n",
       "      <td>100000.0</td>\n",
       "      <td>1.0</td>\n",
       "    </tr>\n",
       "    <tr>\n",
       "      <th>815</th>\n",
       "      <td>DEPO</td>\n",
       "      <td>623</td>\n",
       "      <td>1188</td>\n",
       "      <td>10004</td>\n",
       "      <td>12831</td>\n",
       "      <td>1010000.0</td>\n",
       "      <td>0.0</td>\n",
       "    </tr>\n",
       "  </tbody>\n",
       "</table>\n",
       "<p>816 rows × 7 columns</p>\n",
       "</div>"
      ],
      "text/plain": [
       "    token_name  total_positive_direct_mentions  \\\n",
       "0          KXA                            3053   \n",
       "1          MGA                            2905   \n",
       "2         BICO                             933   \n",
       "3         NEXT                            1494   \n",
       "4         UMAD                             273   \n",
       "..         ...                             ...   \n",
       "811        BTL                            1263   \n",
       "812        ARC                            2651   \n",
       "813        SIS                             735   \n",
       "814       WIDI                             738   \n",
       "815       DEPO                             623   \n",
       "\n",
       "     total_negative_direct_mentions  total_positive_indirect_mentions  \\\n",
       "0                              1936                             40100   \n",
       "1                               917                             24796   \n",
       "2                               596                              6544   \n",
       "3                              1902                              3711   \n",
       "4                               189                              2426   \n",
       "..                              ...                               ...   \n",
       "811                             480                              5387   \n",
       "812                            6730                              6203   \n",
       "813                            1012                              6190   \n",
       "814                             347                              4676   \n",
       "815                            1188                             10004   \n",
       "\n",
       "     total_negative_indirect_mentions    soft_cap  ico_success  \n",
       "0                               28684    100000.0          1.0  \n",
       "1                               25392   2850000.0          1.0  \n",
       "2                                6221  21100000.0          1.0  \n",
       "3                                2196   3040000.0          0.0  \n",
       "4                                2077   7540000.0          1.0  \n",
       "..                                ...         ...          ...  \n",
       "811                              9996   3150000.0          1.0  \n",
       "812                             14883   2800000.0          0.0  \n",
       "813                              6045  10080000.0          1.0  \n",
       "814                              2220    100000.0          1.0  \n",
       "815                             12831   1010000.0          0.0  \n",
       "\n",
       "[816 rows x 7 columns]"
      ]
     },
     "execution_count": 13,
     "metadata": {},
     "output_type": "execute_result"
    }
   ],
   "source": [
    "df1"
   ]
  },
  {
   "cell_type": "code",
   "execution_count": 24,
   "id": "958d01a0",
   "metadata": {},
   "outputs": [
    {
     "data": {
      "text/plain": [
       "token_name                                DUO\n",
       "total_positive_direct_mentions            266\n",
       "total_negative_direct_mentions            180\n",
       "total_positive_indirect_mentions         2208\n",
       "total_negative_indirect_mentions         1689\n",
       "soft_cap                            5100000.0\n",
       "ico_success                               1.0\n",
       "Name: 480, dtype: object"
      ]
     },
     "execution_count": 24,
     "metadata": {},
     "output_type": "execute_result"
    }
   ],
   "source": [
    "df1.iloc[480]"
   ]
  }
 ],
 "metadata": {
  "kernelspec": {
   "display_name": "Python 3 (ipykernel)",
   "language": "python",
   "name": "python3"
  },
  "language_info": {
   "codemirror_mode": {
    "name": "ipython",
    "version": 3
   },
   "file_extension": ".py",
   "mimetype": "text/x-python",
   "name": "python",
   "nbconvert_exporter": "python",
   "pygments_lexer": "ipython3",
   "version": "3.11.7"
  }
 },
 "nbformat": 4,
 "nbformat_minor": 5
}
